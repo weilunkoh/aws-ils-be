{
 "cells": [
  {
   "cell_type": "markdown",
   "metadata": {},
   "source": [
    "### References\n",
    "- https://github.com/huggingface/notebooks/blob/main/sagemaker/19_serverless_inference/sagemaker-notebook.ipynb\n",
    "- https://sagemaker.readthedocs.io/en/stable/frameworks/huggingface/sagemaker.huggingface.html"
   ]
  },
  {
   "cell_type": "markdown",
   "metadata": {},
   "source": [
    "### Imports"
   ]
  },
  {
   "cell_type": "code",
   "execution_count": 12,
   "metadata": {},
   "outputs": [],
   "source": [
    "import base64\n",
    "import boto3\n",
    "import json\n",
    "import sagemaker\n",
    "from sagemaker.huggingface import HuggingFaceModel\n",
    "from sagemaker.pytorch import PyTorchModel, PyTorchPredictor\n",
    "from sagemaker.serverless import ServerlessInferenceConfig\n",
    "from sagemaker.serializers import JSONSerializer\n",
    "from sagemaker.deserializers import JSONDeserializer"
   ]
  },
  {
   "cell_type": "markdown",
   "metadata": {},
   "source": [
    "### Upload tar.gz into S3"
   ]
  },
  {
   "cell_type": "code",
   "execution_count": 2,
   "metadata": {},
   "outputs": [],
   "source": [
    "s3_resource = boto3.resource(\"s3\")\n",
    "aws_ils_model_bucket = s3_resource.Bucket(\"smu-ils-model\")"
   ]
  },
  {
   "cell_type": "code",
   "execution_count": 3,
   "metadata": {},
   "outputs": [],
   "source": [
    "with open(\"../model/clip_image/clip_image.tar.gz\", \"rb\") as f:\n",
    "    aws_ils_model_bucket.put_object(Key=\"model/clip_image.tar.gz\", Body=f)\n",
    "with open(\"../model/clip_text/clip_text.tar.gz\", \"rb\") as f:\n",
    "    aws_ils_model_bucket.put_object(Key=\"model/clip_text.tar.gz\", Body=f)"
   ]
  },
  {
   "cell_type": "markdown",
   "metadata": {},
   "source": [
    "### Serverless Config and Role"
   ]
  },
  {
   "cell_type": "code",
   "execution_count": 4,
   "metadata": {},
   "outputs": [],
   "source": [
    "image_serverless_config = ServerlessInferenceConfig(\n",
    "    memory_size_in_mb=4096, \n",
    "    # max_concurrency=10, # default is 5, sticking to 5\n",
    "    # provisioned_concurrency=1, # default is None, assign a value to address cold start\n",
    ")\n",
    "\n",
    "text_serverless_config = ServerlessInferenceConfig(\n",
    "    memory_size_in_mb=3072, \n",
    "    # max_concurrency=10,\n",
    "    # provisioned_concurrency=1, # not addressing cold start problem to save costs\n",
    ")"
   ]
  },
  {
   "cell_type": "code",
   "execution_count": null,
   "metadata": {},
   "outputs": [],
   "source": [
    "iam = boto3.client('iam')\n",
    "role = iam.get_role(RoleName='aws-elasticbeanstalk-ec2-role')['Role']['Arn']"
   ]
  },
  {
   "cell_type": "markdown",
   "metadata": {},
   "source": [
    "### Models"
   ]
  },
  {
   "cell_type": "code",
   "execution_count": 6,
   "metadata": {},
   "outputs": [],
   "source": [
    "model_bucket = \"smu-ils-model/model\"\n",
    "\n",
    "image_model = PyTorchModel(\n",
    "    model_data=f\"s3://{model_bucket}/clip_image.tar.gz\",\n",
    "    role=role,\n",
    "    framework_version=\"2.0.0\",\n",
    "    py_version=\"py310\",\n",
    ")\n",
    "\n",
    "text_model = PyTorchModel(\n",
    "    model_data=f\"s3://{model_bucket}/clip_text.tar.gz\",\n",
    "    role=role,\n",
    "    framework_version=\"2.0.0\",\n",
    "    py_version=\"py310\"\n",
    ")"
   ]
  },
  {
   "cell_type": "markdown",
   "metadata": {},
   "source": [
    "### One-time Deployment"
   ]
  },
  {
   "cell_type": "code",
   "execution_count": 7,
   "metadata": {},
   "outputs": [
    {
     "name": "stdout",
     "output_type": "stream",
     "text": [
      "----!"
     ]
    }
   ],
   "source": [
    "image_predictor = image_model.deploy(\n",
    "    serverless_inference_config=image_serverless_config,\n",
    "    serializer=JSONSerializer(),\n",
    "    deserializer=JSONDeserializer(),\n",
    ")\n",
    "text_predictor = text_model.deploy(\n",
    "    serverless_inference_config=text_serverless_config,\n",
    "    serializer=JSONSerializer(),\n",
    "    deserializer=JSONDeserializer(),\n",
    ")"
   ]
  },
  {
   "cell_type": "markdown",
   "metadata": {},
   "source": [
    "### Inference"
   ]
  },
  {
   "cell_type": "code",
   "execution_count": 8,
   "metadata": {},
   "outputs": [
    {
     "data": {
      "text/plain": [
       "768"
      ]
     },
     "execution_count": 8,
     "metadata": {},
     "output_type": "execute_result"
    }
   ],
   "source": [
    "with open(\"../data/imagenet/tench/test/n01440764_1383.JPEG\", \"rb\") as f:\n",
    "    image_bytes = f.read()\n",
    "image_b64 = base64.b64encode(image_bytes).decode(\"utf-8\")\n",
    "image_data = {\"img_b64\": image_b64}\n",
    "image_features = image_predictor.predict(image_data)\n",
    "len(image_features)"
   ]
  },
  {
   "cell_type": "code",
   "execution_count": null,
   "metadata": {},
   "outputs": [
    {
     "name": "stdout",
     "output_type": "stream",
     "text": [
      "768\n"
     ]
    }
   ],
   "source": [
    "text_data = {\"class_name\": \"dog\"}\n",
    "text_features = text_predictor.predict(text_data)\n",
    "len(text_features)"
   ]
  },
  {
   "cell_type": "markdown",
   "metadata": {},
   "source": [
    "### Inference by Instantiating Predictor with Endpoint"
   ]
  },
  {
   "cell_type": "code",
   "execution_count": 9,
   "metadata": {},
   "outputs": [
    {
     "name": "stdout",
     "output_type": "stream",
     "text": [
      "pytorch-inference-2024-01-14-08-45-53-556\n",
      "pytorch-inference-2024-01-10-09-34-42-078\n"
     ]
    }
   ],
   "source": [
    "image_model_endpoint_name = image_predictor.endpoint_name\n",
    "print(image_model_endpoint_name)\n",
    "text_model_endpoint_name = text_predictor.endpoint_name\n",
    "print(text_model_endpoint_name)"
   ]
  },
  {
   "cell_type": "code",
   "execution_count": 10,
   "metadata": {},
   "outputs": [
    {
     "data": {
      "text/plain": [
       "768"
      ]
     },
     "execution_count": 10,
     "metadata": {},
     "output_type": "execute_result"
    }
   ],
   "source": [
    "image_model_endpoint_name = \"pytorch-inference-2024-01-14-08-45-53-556\"\n",
    "loaded_image_predictor = PyTorchPredictor(\n",
    "    endpoint_name=image_model_endpoint_name,\n",
    "    serializer=JSONSerializer(),\n",
    "    deserializer=JSONDeserializer(),\n",
    ")\n",
    "\n",
    "with open(\"../data/imagenet/tench/test/n01440764_1383.JPEG\", \"rb\") as f:\n",
    "    image_bytes = f.read()\n",
    "image_b64 = base64.b64encode(image_bytes).decode(\"utf-8\")\n",
    "image_data = {\"img_b64\": image_b64}\n",
    "image_features = image_predictor.predict(image_data)\n",
    "len(image_features)"
   ]
  },
  {
   "cell_type": "code",
   "execution_count": 11,
   "metadata": {},
   "outputs": [
    {
     "data": {
      "text/plain": [
       "768"
      ]
     },
     "execution_count": 11,
     "metadata": {},
     "output_type": "execute_result"
    }
   ],
   "source": [
    "text_model_endpoint_name = \"pytorch-inference-2024-01-10-09-34-42-078\"\n",
    "loaded_text_predictor = PyTorchPredictor(\n",
    "    endpoint_name=text_model_endpoint_name,\n",
    "    serializer=JSONSerializer(),\n",
    "    deserializer=JSONDeserializer(),\n",
    ")\n",
    "text_data = {\"class_name\": \"tench\"}\n",
    "text_features = loaded_text_predictor.predict(text_data)\n",
    "len(text_features)"
   ]
  },
  {
   "cell_type": "markdown",
   "metadata": {},
   "source": [
    "### Delete (Optional)"
   ]
  },
  {
   "cell_type": "code",
   "execution_count": null,
   "metadata": {},
   "outputs": [],
   "source": [
    "# image_predictor.delete_endpoint()\n",
    "# text_predictor.delete_endpoint()\n",
    "\n",
    "# image_model.delete_model()\n",
    "# text_model.delete_model()"
   ]
  }
 ],
 "metadata": {
  "kernelspec": {
   "display_name": "aws-ils-be",
   "language": "python",
   "name": "python3"
  },
  "language_info": {
   "codemirror_mode": {
    "name": "ipython",
    "version": 3
   },
   "file_extension": ".py",
   "mimetype": "text/x-python",
   "name": "python",
   "nbconvert_exporter": "python",
   "pygments_lexer": "ipython3",
   "version": "3.8.13"
  }
 },
 "nbformat": 4,
 "nbformat_minor": 2
}
