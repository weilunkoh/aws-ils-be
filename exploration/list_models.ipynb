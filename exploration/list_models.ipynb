{
 "cells": [
  {
   "cell_type": "markdown",
   "metadata": {},
   "source": [
    "# DELETE THIS LATER"
   ]
  },
  {
   "cell_type": "code",
   "execution_count": 4,
   "metadata": {},
   "outputs": [
    {
     "data": {
      "text/plain": [
       "['model/clip_image_feature_extractor/config.json',\n",
       " 'model/clip_image_feature_extractor/model.safetensors',\n",
       " 'model/clip_image_processor/preprocessor_config.json',\n",
       " 'model/clip_text_feature_extractor/config.json',\n",
       " 'model/clip_text_feature_extractor/model.safetensors',\n",
       " 'model/clip_text_tokenizer/merges.txt',\n",
       " 'model/clip_text_tokenizer/special_tokens_map.json',\n",
       " 'model/clip_text_tokenizer/tokenizer.json',\n",
       " 'model/clip_text_tokenizer/tokenizer_config.json',\n",
       " 'model/clip_text_tokenizer/vocab.json']"
      ]
     },
     "execution_count": 4,
     "metadata": {},
     "output_type": "execute_result"
    }
   ],
   "source": [
    "import os\n",
    "\n",
    "model_keys = []\n",
    "for subfolder in os.listdir(\"../model\")[1:]:\n",
    "    for filename in os.listdir(f\"../model/{subfolder}\"):\n",
    "        model_keys.append(f\"model/{subfolder}/{filename}\")\n",
    "\n",
    "model_keys"
   ]
  },
  {
   "cell_type": "code",
   "execution_count": 5,
   "metadata": {},
   "outputs": [
    {
     "data": {
      "text/plain": [
       "'model/clip_image_feature_extractor/config.json,model/clip_image_feature_extractor/model.safetensors,model/clip_image_processor/preprocessor_config.json,model/clip_text_feature_extractor/config.json,model/clip_text_feature_extractor/model.safetensors,model/clip_text_tokenizer/merges.txt,model/clip_text_tokenizer/special_tokens_map.json,model/clip_text_tokenizer/tokenizer.json,model/clip_text_tokenizer/tokenizer_config.json,model/clip_text_tokenizer/vocab.json'"
      ]
     },
     "execution_count": 5,
     "metadata": {},
     "output_type": "execute_result"
    }
   ],
   "source": [
    "\",\".join(model_keys)"
   ]
  }
 ],
 "metadata": {
  "kernelspec": {
   "display_name": "aws-ils-be",
   "language": "python",
   "name": "python3"
  },
  "language_info": {
   "codemirror_mode": {
    "name": "ipython",
    "version": 3
   },
   "file_extension": ".py",
   "mimetype": "text/x-python",
   "name": "python",
   "nbconvert_exporter": "python",
   "pygments_lexer": "ipython3",
   "version": "3.8.13"
  }
 },
 "nbformat": 4,
 "nbformat_minor": 2
}
