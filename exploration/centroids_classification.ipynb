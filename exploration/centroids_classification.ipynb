{
 "cells": [
  {
   "attachments": {},
   "cell_type": "markdown",
   "metadata": {},
   "source": [
    "# Exploring Centroids Classification Via PyTorch and Scikit-Learn\n",
    "\n",
    "- Using PyTorch implementation of ResNet50 to get embeddings\n",
    "- Using Scikit-Learn k-means clustering to get centroids of each class\n",
    "- Using Scikit-Learn's knn clasifier to fit the centroids and for inference\n",
    "- Using Matplotlib to visualise the centroids on a 2D space"
   ]
  },
  {
   "attachments": {},
   "cell_type": "markdown",
   "metadata": {},
   "source": [
    "### Initialisation"
   ]
  },
  {
   "attachments": {},
   "cell_type": "markdown",
   "metadata": {},
   "source": [
    "Import required packages."
   ]
  },
  {
   "cell_type": "code",
   "execution_count": 36,
   "metadata": {},
   "outputs": [],
   "source": [
    "import torch\n",
    "import torch.nn as nn\n",
    "import torch.nn.functional as F\n",
    "from torchvision.models import ResNet50_Weights, resnet50\n",
    "import torchvision.transforms as transforms\n",
    "from PIL import Image\n",
    "from io import BytesIO\n",
    "import os\n",
    "from sklearn.cluster import KMeans\n",
    "from sklearn.neighbors import KNeighborsClassifier\n",
    "from sklearn.decomposition import PCA\n",
    "import joblib\n",
    "import numpy as np\n",
    "import matplotlib.pyplot as plt\n",
    "from zipfile import ZipFile\n",
    "import json"
   ]
  },
  {
   "attachments": {},
   "cell_type": "markdown",
   "metadata": {},
   "source": [
    "Load ResNet50 with default weights."
   ]
  },
  {
   "cell_type": "code",
   "execution_count": 37,
   "metadata": {},
   "outputs": [
    {
     "name": "stdout",
     "output_type": "stream",
     "text": [
      "ResNet50_Weights.IMAGENET1K_V2\n"
     ]
    }
   ],
   "source": [
    "model = resnet50(weights=ResNet50_Weights.DEFAULT)\n",
    "model = torch.nn.Sequential(*list(model.children())[:-1])\n",
    "print(ResNet50_Weights.DEFAULT)"
   ]
  },
  {
   "attachments": {},
   "cell_type": "markdown",
   "metadata": {},
   "source": [
    "Save model weights so that web app can load from S3 next time."
   ]
  },
  {
   "cell_type": "code",
   "execution_count": 38,
   "metadata": {},
   "outputs": [],
   "source": [
    "model_name = \"../model/resnet50_default_embedder.pth\"\n",
    "torch.save(model.state_dict(), model_name)"
   ]
  },
  {
   "attachments": {},
   "cell_type": "markdown",
   "metadata": {},
   "source": [
    "Test loading of weights."
   ]
  },
  {
   "cell_type": "code",
   "execution_count": 39,
   "metadata": {},
   "outputs": [
    {
     "data": {
      "text/plain": [
       "<All keys matched successfully>"
      ]
     },
     "execution_count": 39,
     "metadata": {},
     "output_type": "execute_result"
    }
   ],
   "source": [
    "model = torch.nn.Sequential(*list(resnet50().children())[:-1])\n",
    "loaded_state_dict = torch.load(model_name)\n",
    "model.load_state_dict(loaded_state_dict)"
   ]
  },
  {
   "attachments": {},
   "cell_type": "markdown",
   "metadata": {},
   "source": [
    "Define image transformation function."
   ]
  },
  {
   "cell_type": "code",
   "execution_count": 40,
   "metadata": {},
   "outputs": [],
   "source": [
    "def transform_image(image_bytes: bytes):\n",
    "    # Default unchanged mean and std\n",
    "    # mean = [0.5, 0.5, 0.5]\n",
    "    # std = [0.5, 0.5, 0.5]\n",
    "\n",
    "    # Imagenet mean and std\n",
    "    mean = [0.485, 0.456, 0.406]\n",
    "    std = [0.229, 0.224, 0.225]\n",
    "    \n",
    "    transform_output = transforms.Compose(\n",
    "        [\n",
    "            transforms.Resize((224, 224)),\n",
    "            transforms.ToTensor(),\n",
    "            transforms.Normalize(mean=mean, std=std),\n",
    "        ]\n",
    "    )\n",
    "    image = Image.open(BytesIO(image_bytes)).convert(\"RGB\")\n",
    "    return transform_output(image).float().unsqueeze(0)"
   ]
  },
  {
   "attachments": {},
   "cell_type": "markdown",
   "metadata": {},
   "source": [
    "Test feature extraction."
   ]
  },
  {
   "cell_type": "code",
   "execution_count": 41,
   "metadata": {},
   "outputs": [
    {
     "name": "stdout",
     "output_type": "stream",
     "text": [
      "torch.Size([1, 3, 224, 224])\n",
      "torch.Size([1, 2048, 1, 1])\n",
      "torch.Size([2048])\n",
      "tensor([0.0390, 0.0876, 0.0322,  ..., 0.1154, 0.0867, 0.0668],\n",
      "       grad_fn=<SqueezeBackward0>)\n"
     ]
    }
   ],
   "source": [
    "with open(\"../data/mock_s3_train/tench/n01440764_1009.JPEG\", \"rb\") as f:\n",
    "    image_bytes = f.read()\n",
    "\n",
    "img = transform_image(image_bytes)\n",
    "img_features = model(img)\n",
    "\n",
    "print(img.shape)\n",
    "print(img_features.shape)\n",
    "print(img_features.squeeze().shape)\n",
    "print(img_features.squeeze())"
   ]
  },
  {
   "attachments": {},
   "cell_type": "markdown",
   "metadata": {},
   "source": [
    "### Get Centroids via K-Means"
   ]
  },
  {
   "attachments": {},
   "cell_type": "markdown",
   "metadata": {},
   "source": [
    "Get image features for all images in folder and stack them."
   ]
  },
  {
   "cell_type": "code",
   "execution_count": 43,
   "metadata": {},
   "outputs": [
    {
     "name": "stdout",
     "output_type": "stream",
     "text": [
      "torch.Size([100, 2048])\n"
     ]
    }
   ],
   "source": [
    "model.eval() #Important\n",
    "folder_name = \"../data/mock_s3_train/tench\"\n",
    "all_img_features_list = []\n",
    "for image_filename in os.listdir(folder_name):\n",
    "    with open(f\"{folder_name}/{image_filename}\", \"rb\") as f:\n",
    "        image_bytes = f.read()\n",
    "    img = transform_image(image_bytes)\n",
    "    img_features = model(img).squeeze()\n",
    "    all_img_features_list.append(img_features)\n",
    "\n",
    "all_img_features = torch.stack(all_img_features_list)\n",
    "print(all_img_features.shape)"
   ]
  },
  {
   "attachments": {},
   "cell_type": "markdown",
   "metadata": {},
   "source": [
    "Define k-means model."
   ]
  },
  {
   "cell_type": "code",
   "execution_count": 44,
   "metadata": {},
   "outputs": [
    {
     "name": "stdout",
     "output_type": "stream",
     "text": [
      "(30, 2048)\n"
     ]
    }
   ],
   "source": [
    "# Variables to consider saving in S3 together with PyTorch ResNet50 model\n",
    "num_centroids = 30\n",
    "random_state = 2023\n",
    "kmeans = KMeans(n_clusters=num_centroids, random_state=random_state, init='k-means++', n_init=1)\n",
    "kmeans.fit(all_img_features.detach().numpy())\n",
    "print(kmeans.cluster_centers_.shape)"
   ]
  },
  {
   "attachments": {},
   "cell_type": "markdown",
   "metadata": {},
   "source": [
    "Make the above into a reusable function."
   ]
  },
  {
   "cell_type": "code",
   "execution_count": 45,
   "metadata": {},
   "outputs": [],
   "source": [
    "def get_centroids(folder_name: str, num_centroids: int, random_state: int):\n",
    "    # Below section to be modified to retrieve images from S3\n",
    "    all_img_features_list = []\n",
    "    for image_filename in os.listdir(f\"{folder_name}\"):\n",
    "        with open(f\"{folder_name}/{image_filename}\", \"rb\") as f:\n",
    "            image_bytes = f.read()\n",
    "        img = transform_image(image_bytes)\n",
    "        img_features = model(img).squeeze()\n",
    "        all_img_features_list.append(img_features)\n",
    "\n",
    "    all_img_features = torch.stack(all_img_features_list)\n",
    "    kmeans = KMeans(n_clusters=num_centroids, random_state=random_state, init='k-means++', n_init=1)\n",
    "    kmeans.fit(all_img_features.detach().numpy())\n",
    "    return kmeans.cluster_centers_"
   ]
  },
  {
   "attachments": {},
   "cell_type": "markdown",
   "metadata": {},
   "source": [
    "Get centroids for both folders."
   ]
  },
  {
   "cell_type": "code",
   "execution_count": 46,
   "metadata": {},
   "outputs": [
    {
     "name": "stdout",
     "output_type": "stream",
     "text": [
      "(30, 2048)\n",
      "(30, 2048)\n",
      "[0.04882131 0.         0.03448014 ... 0.00260307 0.03191869 0.00851635]\n",
      "[0.0344649 0.        0.        ... 0.        0.        0.       ]\n"
     ]
    }
   ],
   "source": [
    "all_centroids_dict = {}\n",
    "\n",
    "for folder_name in [\"tench\", \"coucal\"]:\n",
    "    all_centroids_dict[folder_name] = get_centroids(f\"../data/mock_s3_train/{folder_name}\", num_centroids, random_state)\n",
    "\n",
    "print(all_centroids_dict[\"tench\"].shape)\n",
    "print(all_centroids_dict[\"coucal\"].shape)\n",
    "print(all_centroids_dict[\"tench\"][0])\n",
    "print(all_centroids_dict[\"coucal\"][0])"
   ]
  },
  {
   "attachments": {},
   "cell_type": "markdown",
   "metadata": {},
   "source": [
    "Save centroids as joblib file."
   ]
  },
  {
   "cell_type": "code",
   "execution_count": 47,
   "metadata": {},
   "outputs": [
    {
     "data": {
      "text/plain": [
       "['../model/all_centroids_dict.joblib']"
      ]
     },
     "execution_count": 47,
     "metadata": {},
     "output_type": "execute_result"
    }
   ],
   "source": [
    "joblib.dump(all_centroids_dict, \"../model/all_centroids_dict.joblib\")"
   ]
  },
  {
   "attachments": {},
   "cell_type": "markdown",
   "metadata": {},
   "source": [
    "Load centroids from joblib file to test."
   ]
  },
  {
   "cell_type": "code",
   "execution_count": 48,
   "metadata": {},
   "outputs": [
    {
     "name": "stdout",
     "output_type": "stream",
     "text": [
      "(30, 2048)\n",
      "(30, 2048)\n",
      "[0.04882131 0.         0.03448014 ... 0.00260307 0.03191869 0.00851635]\n",
      "[0.0344649 0.        0.        ... 0.        0.        0.       ]\n"
     ]
    }
   ],
   "source": [
    "all_centroids_dict = joblib.load(\"../model/all_centroids_dict.joblib\")\n",
    "\n",
    "print(all_centroids_dict[\"tench\"].shape)\n",
    "print(all_centroids_dict[\"coucal\"].shape)\n",
    "print(all_centroids_dict[\"tench\"][0])\n",
    "print(all_centroids_dict[\"coucal\"][0])"
   ]
  },
  {
   "attachments": {},
   "cell_type": "markdown",
   "metadata": {},
   "source": [
    "### Train KNN Classifier on Centroids"
   ]
  },
  {
   "attachments": {},
   "cell_type": "markdown",
   "metadata": {},
   "source": [
    "Define knn classifier model."
   ]
  },
  {
   "cell_type": "code",
   "execution_count": 49,
   "metadata": {},
   "outputs": [],
   "source": [
    "num_neighbours = 5\n",
    "knn = KNeighborsClassifier(n_neighbors=num_neighbours)"
   ]
  },
  {
   "attachments": {},
   "cell_type": "markdown",
   "metadata": {},
   "source": [
    "Fit knn to centroids."
   ]
  },
  {
   "cell_type": "code",
   "execution_count": 50,
   "metadata": {},
   "outputs": [
    {
     "name": "stdout",
     "output_type": "stream",
     "text": [
      "tench\n",
      "coucal\n",
      "(60, 2048)\n",
      "(60,)\n"
     ]
    },
    {
     "data": {
      "text/html": [
       "<style>#sk-container-id-2 {color: black;background-color: white;}#sk-container-id-2 pre{padding: 0;}#sk-container-id-2 div.sk-toggleable {background-color: white;}#sk-container-id-2 label.sk-toggleable__label {cursor: pointer;display: block;width: 100%;margin-bottom: 0;padding: 0.3em;box-sizing: border-box;text-align: center;}#sk-container-id-2 label.sk-toggleable__label-arrow:before {content: \"▸\";float: left;margin-right: 0.25em;color: #696969;}#sk-container-id-2 label.sk-toggleable__label-arrow:hover:before {color: black;}#sk-container-id-2 div.sk-estimator:hover label.sk-toggleable__label-arrow:before {color: black;}#sk-container-id-2 div.sk-toggleable__content {max-height: 0;max-width: 0;overflow: hidden;text-align: left;background-color: #f0f8ff;}#sk-container-id-2 div.sk-toggleable__content pre {margin: 0.2em;color: black;border-radius: 0.25em;background-color: #f0f8ff;}#sk-container-id-2 input.sk-toggleable__control:checked~div.sk-toggleable__content {max-height: 200px;max-width: 100%;overflow: auto;}#sk-container-id-2 input.sk-toggleable__control:checked~label.sk-toggleable__label-arrow:before {content: \"▾\";}#sk-container-id-2 div.sk-estimator input.sk-toggleable__control:checked~label.sk-toggleable__label {background-color: #d4ebff;}#sk-container-id-2 div.sk-label input.sk-toggleable__control:checked~label.sk-toggleable__label {background-color: #d4ebff;}#sk-container-id-2 input.sk-hidden--visually {border: 0;clip: rect(1px 1px 1px 1px);clip: rect(1px, 1px, 1px, 1px);height: 1px;margin: -1px;overflow: hidden;padding: 0;position: absolute;width: 1px;}#sk-container-id-2 div.sk-estimator {font-family: monospace;background-color: #f0f8ff;border: 1px dotted black;border-radius: 0.25em;box-sizing: border-box;margin-bottom: 0.5em;}#sk-container-id-2 div.sk-estimator:hover {background-color: #d4ebff;}#sk-container-id-2 div.sk-parallel-item::after {content: \"\";width: 100%;border-bottom: 1px solid gray;flex-grow: 1;}#sk-container-id-2 div.sk-label:hover label.sk-toggleable__label {background-color: #d4ebff;}#sk-container-id-2 div.sk-serial::before {content: \"\";position: absolute;border-left: 1px solid gray;box-sizing: border-box;top: 0;bottom: 0;left: 50%;z-index: 0;}#sk-container-id-2 div.sk-serial {display: flex;flex-direction: column;align-items: center;background-color: white;padding-right: 0.2em;padding-left: 0.2em;position: relative;}#sk-container-id-2 div.sk-item {position: relative;z-index: 1;}#sk-container-id-2 div.sk-parallel {display: flex;align-items: stretch;justify-content: center;background-color: white;position: relative;}#sk-container-id-2 div.sk-item::before, #sk-container-id-2 div.sk-parallel-item::before {content: \"\";position: absolute;border-left: 1px solid gray;box-sizing: border-box;top: 0;bottom: 0;left: 50%;z-index: -1;}#sk-container-id-2 div.sk-parallel-item {display: flex;flex-direction: column;z-index: 1;position: relative;background-color: white;}#sk-container-id-2 div.sk-parallel-item:first-child::after {align-self: flex-end;width: 50%;}#sk-container-id-2 div.sk-parallel-item:last-child::after {align-self: flex-start;width: 50%;}#sk-container-id-2 div.sk-parallel-item:only-child::after {width: 0;}#sk-container-id-2 div.sk-dashed-wrapped {border: 1px dashed gray;margin: 0 0.4em 0.5em 0.4em;box-sizing: border-box;padding-bottom: 0.4em;background-color: white;}#sk-container-id-2 div.sk-label label {font-family: monospace;font-weight: bold;display: inline-block;line-height: 1.2em;}#sk-container-id-2 div.sk-label-container {text-align: center;}#sk-container-id-2 div.sk-container {/* jupyter's `normalize.less` sets `[hidden] { display: none; }` but bootstrap.min.css set `[hidden] { display: none !important; }` so we also need the `!important` here to be able to override the default hidden behavior on the sphinx rendered scikit-learn.org. See: https://github.com/scikit-learn/scikit-learn/issues/21755 */display: inline-block !important;position: relative;}#sk-container-id-2 div.sk-text-repr-fallback {display: none;}</style><div id=\"sk-container-id-2\" class=\"sk-top-container\"><div class=\"sk-text-repr-fallback\"><pre>KNeighborsClassifier()</pre><b>In a Jupyter environment, please rerun this cell to show the HTML representation or trust the notebook. <br />On GitHub, the HTML representation is unable to render, please try loading this page with nbviewer.org.</b></div><div class=\"sk-container\" hidden><div class=\"sk-item\"><div class=\"sk-estimator sk-toggleable\"><input class=\"sk-toggleable__control sk-hidden--visually\" id=\"sk-estimator-id-2\" type=\"checkbox\" checked><label for=\"sk-estimator-id-2\" class=\"sk-toggleable__label sk-toggleable__label-arrow\">KNeighborsClassifier</label><div class=\"sk-toggleable__content\"><pre>KNeighborsClassifier()</pre></div></div></div></div></div>"
      ],
      "text/plain": [
       "KNeighborsClassifier()"
      ]
     },
     "execution_count": 50,
     "metadata": {},
     "output_type": "execute_result"
    }
   ],
   "source": [
    "X = []\n",
    "y = []\n",
    "\n",
    "for key in all_centroids_dict.keys():\n",
    "    print(key)\n",
    "    X.append(all_centroids_dict[key])\n",
    "    y.append([key] * len(all_centroids_dict[key]))\n",
    "\n",
    "X = np.concatenate(X)\n",
    "y = np.concatenate(y)\n",
    "\n",
    "print(X.shape)\n",
    "print(y.shape)\n",
    "\n",
    "knn.fit(X, y)"
   ]
  },
  {
   "attachments": {},
   "cell_type": "markdown",
   "metadata": {},
   "source": [
    "Test model inference."
   ]
  },
  {
   "cell_type": "code",
   "execution_count": 51,
   "metadata": {},
   "outputs": [
    {
     "name": "stdout",
     "output_type": "stream",
     "text": [
      "['tench']\n",
      "[[0. 1.]]\n"
     ]
    }
   ],
   "source": [
    "test_img_feature = img_features.detach().numpy().reshape(1, -1)\n",
    "print(knn.predict(test_img_feature))\n",
    "print(knn.predict_proba(test_img_feature))"
   ]
  },
  {
   "attachments": {},
   "cell_type": "markdown",
   "metadata": {},
   "source": [
    "Save classifier as joblib file."
   ]
  },
  {
   "cell_type": "code",
   "execution_count": 52,
   "metadata": {},
   "outputs": [
    {
     "data": {
      "text/plain": [
       "['../model/knn.joblib']"
      ]
     },
     "execution_count": 52,
     "metadata": {},
     "output_type": "execute_result"
    }
   ],
   "source": [
    "joblib.dump(knn, \"../model/knn.joblib\")"
   ]
  },
  {
   "attachments": {},
   "cell_type": "markdown",
   "metadata": {},
   "source": [
    "Load classifier from joblib file to test."
   ]
  },
  {
   "cell_type": "code",
   "execution_count": 53,
   "metadata": {},
   "outputs": [
    {
     "name": "stdout",
     "output_type": "stream",
     "text": [
      "['tench']\n",
      "[[0. 1.]]\n"
     ]
    }
   ],
   "source": [
    "knn = joblib.load(\"../model/knn.joblib\")\n",
    "print(knn.predict(test_img_feature))\n",
    "print(knn.predict_proba(test_img_feature))"
   ]
  },
  {
   "attachments": {},
   "cell_type": "markdown",
   "metadata": {},
   "source": [
    "### Test Batch Evaluation"
   ]
  },
  {
   "attachments": {},
   "cell_type": "markdown",
   "metadata": {},
   "source": [
    "Copying single inference function that is already done from `helper_model.py` to cell below."
   ]
  },
  {
   "cell_type": "code",
   "execution_count": 54,
   "metadata": {},
   "outputs": [],
   "source": [
    "def get_prediction(model_dict: dict, image_bytes: bytes):\n",
    "    class_names = model_dict[\"classifier\"].classes_\n",
    "    img = transform_image(image_bytes=image_bytes)\n",
    "    model_dict[\"feature_extractor\"].eval()\n",
    "    with torch.no_grad():\n",
    "        img_features = model_dict[\"feature_extractor\"](img)\n",
    "        img_features = img_features.detach().numpy().reshape(1, -1)\n",
    "        pred_probas = model_dict[\"classifier\"].predict_proba(img_features)[0]\n",
    "        predicted_classes = {\n",
    "            predicted_class: confidence\n",
    "            for (predicted_class, confidence) in zip(class_names, pred_probas)\n",
    "        }\n",
    "        predicted_classes = {\n",
    "            key: value\n",
    "            for (key, value) in sorted(\n",
    "                predicted_classes.items(), key=lambda x: x[1], reverse=True\n",
    "            )\n",
    "        }\n",
    "        top_predictions = {\n",
    "            key: value for (key, value) in list(predicted_classes.items())[:5]\n",
    "        }\n",
    "    return top_predictions"
   ]
  },
  {
   "attachments": {},
   "cell_type": "markdown",
   "metadata": {},
   "source": [
    "Quick testing of function."
   ]
  },
  {
   "cell_type": "code",
   "execution_count": 55,
   "metadata": {},
   "outputs": [
    {
     "data": {
      "text/plain": [
       "{'tench': 1.0, 'coucal': 0.0}"
      ]
     },
     "execution_count": 55,
     "metadata": {},
     "output_type": "execute_result"
    }
   ],
   "source": [
    "get_prediction({\n",
    "    \"feature_extractor\": model,\n",
    "    \"classifier\": knn\n",
    "}, image_bytes)"
   ]
  },
  {
   "attachments": {},
   "cell_type": "markdown",
   "metadata": {},
   "source": [
    "Code logic for looping through zip file and performing inference for image files that have no issues. Mini evaluation will be done to categorise predictions as correct or wrong."
   ]
  },
  {
   "cell_type": "code",
   "execution_count": 56,
   "metadata": {},
   "outputs": [],
   "source": [
    "# Possible params for function\n",
    "test_batch_evaluation_zip = \"../data/for_zipping/test_batch_evaluation.zip\"\n",
    "base_folder_to_save = \"../data/for_zipping\"\n",
    "model_dict = {\n",
    "    \"feature_extractor\": model,\n",
    "    \"classifier\": knn\n",
    "}\n",
    "top_k = 1\n",
    "\n",
    "# Code logic for batch evaluation function\n",
    "overall_prediction = {\n",
    "    \"top_k\": top_k,\n",
    "    \"correct\": {},\n",
    "    \"wrong\": {},\n",
    "    \"skipped\": {}\n",
    "}\n",
    "with ZipFile(test_batch_evaluation_zip, \"r\") as zip_ref:\n",
    "    for filename in zip_ref.namelist():\n",
    "        if any(filename.lower().endswith(prefix) for prefix in [\".png\", \".jpg\", \".jpeg\"]):\n",
    "            try:\n",
    "                with zip_ref.open(filename) as f:\n",
    "                    image_bytes = f.read()\n",
    "            except Exception as err:\n",
    "                print(err)\n",
    "                image_bytes = None\n",
    "                overall_prediction[\"skipped\"][filename] = \"File could not be read.\"\n",
    "\n",
    "            if image_bytes is not None:\n",
    "                try:\n",
    "                    predictions = get_prediction(model_dict, image_bytes)\n",
    "\n",
    "                    #  Change logic to check top 5 predictions instead of top 1 prediction\n",
    "                    #  where there are more classes\n",
    "                    if any(filename.lower().startswith(suffix) for suffix in list(predictions.keys())[:top_k]):\n",
    "                        overall_prediction[\"correct\"][filename] = predictions\n",
    "                    else:\n",
    "                        overall_prediction[\"wrong\"][filename] = predictions\n",
    "                except Exception as err:\n",
    "                    print(err)\n",
    "                    overall_prediction[\"skipped\"][filename] = \"Prediction failed.\"\n",
    "        else:\n",
    "            overall_prediction[\"skipped\"][filename] = \"File extension not supported.\"\n"
   ]
  },
  {
   "attachments": {},
   "cell_type": "markdown",
   "metadata": {},
   "source": [
    "VIew results summary."
   ]
  },
  {
   "cell_type": "code",
   "execution_count": 57,
   "metadata": {},
   "outputs": [
    {
     "name": "stdout",
     "output_type": "stream",
     "text": [
      " No. Correct: 56\n",
      " No. Correct (Coucal): 28\n",
      " No. Correct (Tench): 28\n",
      "\n",
      " No. Wrong: 0\n",
      " No. Wrong (Coucal): 0\n",
      " No. Wrong (Tench): 0\n",
      "\n",
      " No. Skipped: 0\n"
     ]
    }
   ],
   "source": [
    "print(f\" No. Correct: {len(overall_prediction['correct'])}\")\n",
    "print(f\" No. Correct (Coucal): {len([filename for filename in overall_prediction['correct'] if filename.startswith('coucal')])}\")\n",
    "print(f\" No. Correct (Tench): {len([filename for filename in overall_prediction['correct'] if filename.startswith('tench')])}\")\n",
    "print()\n",
    "print(f\" No. Wrong: {len(overall_prediction['wrong'])}\")\n",
    "print(f\" No. Wrong (Coucal): {len([filename for filename in overall_prediction['wrong'] if filename.startswith('coucal')])}\")\n",
    "print(f\" No. Wrong (Tench): {len([filename for filename in overall_prediction['wrong'] if filename.startswith('tench')])}\")\n",
    "print()\n",
    "print(f\" No. Skipped: {len(overall_prediction['skipped'])}\")"
   ]
  },
  {
   "attachments": {},
   "cell_type": "markdown",
   "metadata": {},
   "source": [
    "See which tench images got wrong."
   ]
  },
  {
   "cell_type": "code",
   "execution_count": 58,
   "metadata": {},
   "outputs": [],
   "source": [
    "class_name = 'tench'\n",
    "for filename in [filename for filename in overall_prediction['wrong'] if filename.startswith(class_name)]:\n",
    "    print(filename, overall_prediction['wrong'][filename])"
   ]
  },
  {
   "attachments": {},
   "cell_type": "markdown",
   "metadata": {},
   "source": [
    "Making dict into json for upload into S3."
   ]
  },
  {
   "cell_type": "code",
   "execution_count": 59,
   "metadata": {},
   "outputs": [],
   "source": [
    "overall_prediction_json = json.dumps(overall_prediction, indent=4)\n",
    "with open(f\"{base_folder_to_save}/overall_prediction.json\", \"w\") as f:\n",
    "    f.write(overall_prediction_json)"
   ]
  },
  {
   "attachments": {},
   "cell_type": "markdown",
   "metadata": {},
   "source": [
    "### Visualise Centroids via 2D PCA"
   ]
  },
  {
   "attachments": {},
   "cell_type": "markdown",
   "metadata": {},
   "source": [
    "Define PCA."
   ]
  },
  {
   "cell_type": "code",
   "execution_count": 60,
   "metadata": {},
   "outputs": [],
   "source": [
    "pca = PCA(n_components=2)"
   ]
  },
  {
   "attachments": {},
   "cell_type": "markdown",
   "metadata": {},
   "source": [
    "Fit PCA for all centroids."
   ]
  },
  {
   "cell_type": "code",
   "execution_count": 61,
   "metadata": {},
   "outputs": [
    {
     "data": {
      "text/plain": [
       "(60, 2)"
      ]
     },
     "execution_count": 61,
     "metadata": {},
     "output_type": "execute_result"
    }
   ],
   "source": [
    "pca_X = pca.fit_transform(X)\n",
    "pca_X.shape"
   ]
  },
  {
   "attachments": {},
   "cell_type": "markdown",
   "metadata": {},
   "source": [
    "Plot PCA points on 2D plot."
   ]
  },
  {
   "cell_type": "code",
   "execution_count": 62,
   "metadata": {},
   "outputs": [
    {
     "data": {
      "image/png": "[encoded data removed]",
      "text/plain": [
       "<Figure size 500x500 with 1 Axes>"
      ]
     },
     "metadata": {},
     "output_type": "display_data"
    }
   ],
   "source": [
    "fig, ax = plt.subplots(figsize=(5, 5))\n",
    "\n",
    "for label in np.unique(y):\n",
    "    idx = np.where(y == label)\n",
    "    ax.scatter(pca_X[idx, 0], pca_X[idx, 1], label=label)\n",
    "\n",
    "ax.legend()\n",
    "plt.show()"
   ]
  }
 ],
 "metadata": {
  "kernelspec": {
   "display_name": "aws-ils-be",
   "language": "python",
   "name": "python3"
  },
  "language_info": {
   "codemirror_mode": {
    "name": "ipython",
    "version": 3
   },
   "file_extension": ".py",
   "mimetype": "text/x-python",
   "name": "python",
   "nbconvert_exporter": "python",
   "pygments_lexer": "ipython3",
   "version": "3.8.13"
  },
  "orig_nbformat": 4
 },
 "nbformat": 4,
 "nbformat_minor": 2
}
